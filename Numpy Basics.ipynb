{
 "cells": [
  {
   "cell_type": "code",
   "execution_count": 14,
   "metadata": {},
   "outputs": [
    {
     "data": {
      "text/plain": [
       "array([[[0, 0, 0],\n",
       "        [1, 1, 1],\n",
       "        [2, 2, 2]],\n",
       "\n",
       "       [[0, 1, 2],\n",
       "        [0, 1, 2],\n",
       "        [0, 1, 2]]])"
      ]
     },
     "execution_count": 14,
     "metadata": {},
     "output_type": "execute_result"
    }
   ],
   "source": [
    "from IPython.core.interactiveshell import InteractiveShell\n",
    "InteractiveShell.ast_node_interactivity = \"all\"\n",
    "\n",
    "import numpy as np\n",
    "\n",
    "np.zeros((2,3))\n",
    "\n",
    "np.ones((2,3))\n",
    "\n",
    "np.arange(10)\n",
    "\n",
    "np.arange(2, 10, dtype=float)\n",
    "\n",
    "np.arange(2, 3, 0.1)\n",
    "\n",
    "np.linspace(1., 4., 6)\n",
    "\n",
    "np.indices((3, 3))"
   ]
  },
  {
   "cell_type": "code",
   "execution_count": 19,
   "metadata": {},
   "outputs": [
    {
     "data": {
      "text/plain": [
       "array([[1., 2., 3.],\n",
       "       [4., 5., 6.]])"
      ]
     },
     "execution_count": 19,
     "metadata": {},
     "output_type": "execute_result"
    },
    {
     "data": {
      "text/plain": [
       "array([[  1.,   2.,   3.],\n",
       "       [  4.,   5.,  67.],\n",
       "       [890., 123.,   4.]])"
      ]
     },
     "execution_count": 19,
     "metadata": {},
     "output_type": "execute_result"
    },
    {
     "data": {
      "text/plain": [
       "array([[1234.,  567.,   89.],\n",
       "       [   4.,    7.,    9.],\n",
       "       [   4.,  567.,    9.]])"
      ]
     },
     "execution_count": 19,
     "metadata": {},
     "output_type": "execute_result"
    },
    {
     "data": {
      "text/plain": [
       "array([['1', 'abc', '2'],\n",
       "       ['3', 'xxx', '4']], dtype='<U5')"
      ]
     },
     "execution_count": 19,
     "metadata": {},
     "output_type": "execute_result"
    },
    {
     "data": {
      "text/plain": [
       "array([[1., 2.],\n",
       "       [3., 4.],\n",
       "       [5., 6.],\n",
       "       [7., 8.],\n",
       "       [9., 0.]])"
      ]
     },
     "execution_count": 19,
     "metadata": {},
     "output_type": "execute_result"
    }
   ],
   "source": [
    "# IO with numpy\n",
    "# genfromtxt\n",
    "\n",
    "from io import StringIO\n",
    "\n",
    "\n",
    "data = u\"1, 2, 3\\n4, 5, 6\"\n",
    "np.genfromtxt(StringIO(data), delimiter=\",\")\n",
    "\n",
    "data = u\"  1  2  3\\n  4  5 67\\n890123  4\"\n",
    "np.genfromtxt(StringIO(data), delimiter=3)\n",
    "\n",
    "data = u\"123456789\\n   4  7 9\\n   4567 9\"\n",
    "np.genfromtxt(StringIO(data), delimiter=(4,3,2))\n",
    "\n",
    "\n",
    "# autostrip removes trailing whitespaces\n",
    "data = u\"1, abc , 2\\n 3, xxx, 4\"\n",
    "np.genfromtxt(StringIO(data), delimiter=\",\", autostrip=True, dtype=\"|U5\")\n",
    "\n",
    "# comments arguments\n",
    "data = u\"\"\"#\n",
    "# Skip me !\n",
    "# Skip me too !\n",
    "1, 2\n",
    "3, 4\n",
    "5, 6 #This is the third line of the data\n",
    "7, 8\n",
    "# And here comes the last line\n",
    "9, 0\n",
    "\"\"\"\n",
    "\n",
    "np.genfromtxt(StringIO(data), comments=\"#\", delimiter=\",\")"
   ]
  },
  {
   "cell_type": "code",
   "execution_count": 29,
   "metadata": {},
   "outputs": [
    {
     "data": {
      "text/plain": [
       "array([[   1., -999.,    3.],\n",
       "       [   4.,    5.,    6.]])"
      ]
     },
     "execution_count": 29,
     "metadata": {},
     "output_type": "execute_result"
    }
   ],
   "source": [
    "# using a converter func\n",
    "\n",
    "data = u\"1, , 3\\n 4, 5, 6\"\n",
    "\n",
    "convert = lambda x: float(x.strip() or -999)\n",
    "\n",
    "np.genfromtxt(StringIO(data), delimiter=\",\",\n",
    "              converters={1: convert})"
   ]
  },
  {
   "cell_type": "code",
   "execution_count": 33,
   "metadata": {},
   "outputs": [
    {
     "data": {
      "text/plain": [
       "array([(0, 2,     3), (4, 0, -9998)],\n",
       "      dtype=[('a', '<i8'), ('b', '<i8'), ('c', '<i8')])"
      ]
     },
     "execution_count": 33,
     "metadata": {},
     "output_type": "execute_result"
    }
   ],
   "source": [
    "# example of using missing_values and filling_values\n",
    "# In the following example, we suppose that the missing values are \n",
    "# flagged with \"N/A\" in the first column and by \"???\" in the third column.\n",
    "# We wish to transform these missing values to 0 if they occur in the \n",
    "# first and second column, and to -999 if they occur in the last column:\n",
    "\n",
    "data = u\"N/A, 2, 3\\n4, ,???\"\n",
    "\n",
    "kwargs = dict(\n",
    "    delimiter= \",\",\n",
    "    dtype=int,\n",
    "    names=\"a,b,c\",\n",
    "    missing_values={\"a\":\"N/A\", \"b\":\" \", \"c\": \"???\"},\n",
    "    filling_values={\"a\":0, \"b\": 0, \"c\": -999}\n",
    ")\n",
    "\n",
    "np.genfromtxt(StringIO(data), **kwargs)"
   ]
  },
  {
   "cell_type": "code",
   "execution_count": null,
   "metadata": {},
   "outputs": [],
   "source": [
    "# TODO:\n",
    "# Indexing"
   ]
  },
  {
   "cell_type": "code",
   "execution_count": null,
   "metadata": {},
   "outputs": [],
   "source": []
  }
 ],
 "metadata": {
  "kernelspec": {
   "display_name": "Python 3",
   "language": "python",
   "name": "python3"
  },
  "language_info": {
   "codemirror_mode": {
    "name": "ipython",
    "version": 3
   },
   "file_extension": ".py",
   "mimetype": "text/x-python",
   "name": "python",
   "nbconvert_exporter": "python",
   "pygments_lexer": "ipython3",
   "version": "3.6.5"
  }
 },
 "nbformat": 4,
 "nbformat_minor": 2
}
